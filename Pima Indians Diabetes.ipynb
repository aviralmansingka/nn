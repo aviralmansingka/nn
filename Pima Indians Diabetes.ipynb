{
 "cells": [
  {
   "cell_type": "code",
   "execution_count": 1,
   "metadata": {
    "collapsed": false,
    "deletable": true,
    "editable": true
   },
   "outputs": [],
   "source": [
    "%matplotlib inline"
   ]
  },
  {
   "cell_type": "code",
   "execution_count": 1,
   "metadata": {
    "collapsed": false,
    "deletable": true,
    "editable": true
   },
   "outputs": [
    {
     "name": "stdout",
     "output_type": "stream",
     "text": [
      "--2017-02-19 11:46:14--  https://archive.ics.uci.edu/ml/machine-learning-databases/pima-indians-diabetes/pima-indians-diabetes.data\n",
      "Resolving archive.ics.uci.edu... 128.195.10.249\n",
      "Connecting to archive.ics.uci.edu|128.195.10.249|:443... connected.\n",
      "HTTP request sent, awaiting response... 200 OK\n",
      "Length: 23279 (23K) [text/plain]\n",
      "Saving to: 'pima-indians-diabetes.data'\n",
      "\n",
      "pima-indians-diabet 100%[===================>]  22.73K  --.-KB/s    in 0.1s    \n",
      "\n",
      "2017-02-19 11:46:16 (166 KB/s) - 'pima-indians-diabetes.data' saved [23279/23279]\n",
      "\n"
     ]
    }
   ],
   "source": [
    "!wget https://archive.ics.uci.edu/ml/machine-learning-databases/pima-indians-diabetes/pima-indians-diabetes.data\n",
    "\n",
    "# small dataset"
   ]
  },
  {
   "cell_type": "code",
   "execution_count": 4,
   "metadata": {
    "collapsed": true,
    "deletable": true,
    "editable": true
   },
   "outputs": [],
   "source": [
    "import tensorflow as tf\n",
    "import numpy as np"
   ]
  },
  {
   "cell_type": "code",
   "execution_count": 5,
   "metadata": {
    "collapsed": false,
    "deletable": true,
    "editable": true
   },
   "outputs": [],
   "source": [
    "# Let's get the data\n",
    "\n",
    "dataset = np.loadtxt(\"pima-indians-diabetes.data\", delimiter=',')"
   ]
  },
  {
   "cell_type": "code",
   "execution_count": 6,
   "metadata": {
    "collapsed": false,
    "deletable": true,
    "editable": true
   },
   "outputs": [
    {
     "name": "stdout",
     "output_type": "stream",
     "text": [
      "[   1.       6.     148.      72.      35.       0.      33.6      0.627\n",
      "   50.   ]\n",
      "[ 1.]\n"
     ]
    }
   ],
   "source": [
    "X = dataset[:, 0:8].tolist()\n",
    "X = np.array([[1.] + row for row in X]).reshape(-1, 9)\n",
    "Y = dataset[:, 8].reshape(-1,1)\n",
    "print(X[0])\n",
    "print(Y[0])"
   ]
  },
  {
   "cell_type": "code",
   "execution_count": 9,
   "metadata": {
    "collapsed": false,
    "deletable": true,
    "editable": true
   },
   "outputs": [],
   "source": [
    "def init_weights(shape):\n",
    "    \n",
    "    return tf.Variable(tf.random_normal(shape, stddev=0.01))\n",
    "\n",
    "def model(X, w_1, w_2, w_3):\n",
    "    \n",
    "    h = tf.nn.relu(tf.matmul(X,w_1))\n",
    "    \n",
    "    h2 = tf.nn.relu(tf.matmul(h, w_2))\n",
    "    \n",
    "    o = tf.nn.sigmoid(tf.matmul(h2, w_3))\n",
    "    \n",
    "    return o\n",
    "\n",
    "x = tf.placeholder(tf.float32, [None, 9])\n",
    "y_ = tf.placeholder(tf.float32, [None, 1])\n",
    "\n",
    "w_1 = init_weights([9, 12])\n",
    "w_2 = init_weights([12, 8])\n",
    "w_3 = init_weights([8, 1])\n",
    "\n",
    "mod = model(x, w_1, w_2, w_3)\n",
    "\n",
    "squared_loss = tf.reduce_mean(tf.squared_difference(mod, y_))\n",
    "\n"
   ]
  },
  {
   "cell_type": "code",
   "execution_count": 10,
   "metadata": {
    "collapsed": false,
    "deletable": true,
    "editable": true
   },
   "outputs": [],
   "source": [
    "train_step = tf.train.AdamOptimizer(1e-4).minimize(squared_loss)"
   ]
  },
  {
   "cell_type": "code",
   "execution_count": 11,
   "metadata": {
    "collapsed": false,
    "deletable": true,
    "editable": true
   },
   "outputs": [],
   "source": [
    "sess = tf.InteractiveSession()\n",
    "\n",
    "tf.global_variables_initializer().run()"
   ]
  },
  {
   "cell_type": "code",
   "execution_count": 12,
   "metadata": {
    "collapsed": false,
    "deletable": true,
    "editable": true
   },
   "outputs": [
    {
     "name": "stdout",
     "output_type": "stream",
     "text": [
      "Train accuracy:  0.651041666667\n",
      "Train accuracy:  0.651041666667\n",
      "Train accuracy:  0.697916666667\n",
      "Train accuracy:  0.705729166667\n",
      "Train accuracy:  0.716145833333\n",
      "Train accuracy:  0.72265625\n",
      "Train accuracy:  0.7734375\n",
      "Train accuracy:  0.783854166667\n",
      "Train accuracy:  0.796875\n",
      "Train accuracy:  0.80078125\n",
      "Train accuracy:  0.805989583333\n",
      "Train accuracy:  0.809895833333\n",
      "Train accuracy:  0.809895833333\n",
      "Train accuracy:  0.80859375\n",
      "Train accuracy:  0.813802083333\n"
     ]
    }
   ],
   "source": [
    "train_accuracy = []\n",
    "for i in range(1500):\n",
    "    \n",
    "    for start, end in zip(range(0,768, 16), range(128, 769, 16)):\n",
    "        train_step.run({x: X[start:end], y_:Y[start:end]})\n",
    "    \n",
    "    train_result = mod.eval({x: X[0:768]})\n",
    "    \n",
    "    if i % 100 is 0:\n",
    "        accuracy = np.mean(Y[0:768] == np.round(train_result))\n",
    "        train_accuracy.append(accuracy)\n",
    "        print(\"Train accuracy: \", accuracy)\n",
    "                "
   ]
  },
  {
   "cell_type": "code",
   "execution_count": 13,
   "metadata": {
    "collapsed": false,
    "deletable": true,
    "editable": true
   },
   "outputs": [
    {
     "data": {
      "text/plain": [
       "[<matplotlib.lines.Line2D at 0x10e6e8ba8>]"
      ]
     },
     "execution_count": 13,
     "metadata": {},
     "output_type": "execute_result"
    },
    {
     "data": {
      "image/png": "[encoded data removed]",
      "text/plain": [
       "<matplotlib.figure.Figure at 0x10e6ba048>"
      ]
     },
     "metadata": {},
     "output_type": "display_data"
    }
   ],
   "source": [
    "import matplotlib.pyplot as plt\n",
    "\n",
    "plt.plot(range(1,16), train_accuracy)"
   ]
  },
  {
   "cell_type": "code",
   "execution_count": null,
   "metadata": {
    "collapsed": true,
    "deletable": true,
    "editable": true
   },
   "outputs": [],
   "source": []
  }
 ],
 "metadata": {
  "kernelspec": {
   "display_name": "Python 3",
   "language": "python",
   "name": "python3"
  },
  "language_info": {
   "codemirror_mode": {
    "name": "ipython",
    "version": 3
   },
   "file_extension": ".py",
   "mimetype": "text/x-python",
   "name": "python",
   "nbconvert_exporter": "python",
   "pygments_lexer": "ipython3",
   "version": "3.6.0"
  }
 },
 "nbformat": 4,
 "nbformat_minor": 2
}
